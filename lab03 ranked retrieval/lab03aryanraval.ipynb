{
 "cells": [
  {
   "cell_type": "markdown",
   "metadata": {},
   "source": [
    "# Lab 03 - Ranked Retrieval"
   ]
  },
  {
   "cell_type": "markdown",
   "metadata": {},
   "source": [
    "## Tokenization"
   ]
  },
  {
   "cell_type": "code",
   "execution_count": 2,
   "metadata": {},
   "outputs": [],
   "source": [
    "import xml.etree.ElementTree as ET\n",
    "import re\n",
    "import math\n",
    "\n",
    "# Define your inverted index data structure\n",
    "inverted_index = {}\n",
    "\n",
    "# Variables to store document lengths and average document length\n",
    "doc_lengths = {}\n",
    "avg_doc_length = 0\n",
    "\n",
    "# Function to tokenize a document\n",
    "def tokenize(text):\n",
    "    # Use regular expression to tokenize words\n",
    "    return re.findall(r'\\b\\w+\\b', text.lower())\n"
   ]
  },
  {
   "cell_type": "markdown",
   "metadata": {},
   "source": [
    "## Inverted Index"
   ]
  },
  {
   "cell_type": "code",
   "execution_count": null,
   "metadata": {},
   "outputs": [],
   "source": [
    "# Function to build the inverted index\n",
    "def build_inverted_index(doc_id, text):\n",
    "    # Tokenize the document\n",
    "    tokens = tokenize(text)\n",
    "    \n",
    "    # Update document length\n",
    "    doc_lengths[doc_id] = len(tokens)\n",
    "    \n",
    "    # Update average document length\n",
    "    global avg_doc_length\n",
    "    avg_doc_length = (avg_doc_length * (doc_id - 1) + len(tokens)) / doc_id\n",
    "    \n",
    "    # Build the inverted index\n",
    "    for term in set(tokens):\n",
    "        if term not in inverted_index:\n",
    "            inverted_index[term] = []\n",
    "        inverted_index[term].append((doc_id, tokens.count(term)))\n"
   ]
  },
  {
   "cell_type": "code",
   "execution_count": 1,
   "metadata": {},
   "outputs": [],
   "source": [
    "\n",
    "# Function to calculate tf.idf similarity\n",
    "def tf_idf_similarity(query, doc_id):\n",
    "    similarity_score = 0\n",
    "\n",
    "    for term in set(query):\n",
    "        if term in inverted_index and doc_id in [doc[0] for doc in inverted_index[term]]:\n",
    "            tf_query = query.count(term)\n",
    "            tf_doc = next(doc[1] for doc in inverted_index[term] if doc[0] == doc_id)\n",
    "            idf = math.log(len(doc_lengths) / len(inverted_index[term]))\n",
    "            normalization = tf_doc + (2 * doc_lengths[doc_id] / avg_doc_length)\n",
    "            \n",
    "            similarity_score += (tf_query * tf_doc / normalization) * idf\n",
    "\n",
    "    return similarity_score\n",
    "\n",
    "# Function to run queries and return ranked results\n",
    "def run_queries(queries):\n",
    "    results = []\n",
    "\n",
    "    for query_id, query_text in queries.items():\n",
    "        query_tokens = tokenize(query_text)\n",
    "        query_results = []\n",
    "\n",
    "        for doc_id in doc_lengths.keys():\n",
    "            similarity_score = tf_idf_similarity(query_tokens, doc_id)\n",
    "            query_results.append((doc_id, similarity_score))\n",
    "\n",
    "        query_results.sort(key=lambda x: x[1], reverse=True)\n",
    "        results.extend([(query_id, doc[0], doc[1]) for doc in query_results])\n",
    "\n",
    "    return results\n",
    "\n",
    "# Function to write results to a file\n",
    "def write_results(results, filename):\n",
    "    with open(filename, 'w') as file:\n",
    "        for result in results:\n",
    "            file.write(','.join(map(str, result)) + '\\n')\n",
    "\n",
    "# Function to parse XML file and build the inverted index\n",
    "def parse_and_build_inverted_index(file_path):\n",
    "    tree = ET.parse(file_path)\n",
    "    root = tree.getroot()\n",
    "\n",
    "    for doc in root.findall('DOC'):\n",
    "        doc_id = int(doc.findtext('DOCNO'))\n",
    "        doc_text = doc.findtext('TEXT')\n",
    "        build_inverted_index(doc_id, doc_text)\n",
    "\n",
    "# Parse XML file and build the inverted index\n",
    "parse_and_build_inverted_index('trec.sample.xml')\n",
    "\n",
    "# Read queries from file\n",
    "queries = {}\n",
    "with open('queries.lab3.txt', 'r') as query_file:\n",
    "    for line in query_file:\n",
    "        query_id, query_text = line.strip().split(' ', 1)\n",
    "        queries[int(query_id)] = query_text\n",
    "\n",
    "# Run queries for different configurations\n",
    "results_no_stemming_stopping = run_queries(queries)\n",
    "write_results(results_no_stemming_stopping, 'tfidf.results')\n",
    "\n",
    "# Implement stemming and stopping as needed\n",
    "\n",
    "# Write a lab report summarizing your implementation, challenges faced, and results\n"
   ]
  },
  {
   "cell_type": "markdown",
   "metadata": {},
   "source": [
    "# END"
   ]
  }
 ],
 "metadata": {
  "kernelspec": {
   "display_name": "Python 3",
   "language": "python",
   "name": "python3"
  },
  "language_info": {
   "codemirror_mode": {
    "name": "ipython",
    "version": 3
   },
   "file_extension": ".py",
   "mimetype": "text/x-python",
   "name": "python",
   "nbconvert_exporter": "python",
   "pygments_lexer": "ipython3",
   "version": "3.10.0"
  },
  "orig_nbformat": 4
 },
 "nbformat": 4,
 "nbformat_minor": 2
}
