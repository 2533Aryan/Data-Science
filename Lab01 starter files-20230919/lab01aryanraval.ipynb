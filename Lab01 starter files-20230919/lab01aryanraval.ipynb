{
 "cells": [
  {
   "cell_type": "markdown",
   "metadata": {},
   "source": [
    "# Part 1: Preprocessing"
   ]
  },
  {
   "cell_type": "code",
   "execution_count": null,
   "metadata": {},
   "outputs": [],
   "source": [
    "import string\n",
    "\n",
    "text = \"\"\n",
    "\n",
    "for filename in ['bible.txt', 'quran.txt']:\n",
    "    with open(filename, 'r', encoding = 'utf-8') as file:\n",
    "        text += file.read() + ' '\n",
    "\n",
    "# Case folding\n",
    "text = text.lower()\n",
    "\n",
    "# Tokenization\n",
    "def tokenizer(text):\n",
    "    text = text.translate(str.maketrans('','',string.punctuation))\n",
    "    token = text.split()\n",
    "    return token\n",
    "\n",
    "tokens = tokenizer(text)"
   ]
  },
  {
   "cell_type": "code",
   "execution_count": null,
   "metadata": {},
   "outputs": [],
   "source": [
    "# Calculate term frequency\n",
    "term_freq = {}\n",
    "for term in tokens:\n",
    "    if term in term_freq:\n",
    "        term_freq[term] += 1\n",
    "    else:\n",
    "        term_freq[term] = 1\n",
    "\n",
    "# Descending order\n",
    "term_freq_desc = sorted(term_freq.items(), key=lambda x: x[1], reverse=True)\n",
    "\n",
    "rank = []\n",
    "freq = []\n",
    "for i in term_freq_desc:\n",
    "    rank.append(i[0])\n",
    "    freq.append(i[1])"
   ]
  },
  {
   "cell_type": "code",
   "execution_count": null,
   "metadata": {},
   "outputs": [],
   "source": [
    "import matplotlib.pyplot as plt\n",
    "\n",
    "plt.plot(rank, freq)\n",
    "plt.title(\"Zipf's law - Unique terms with frequency\")\n",
    "plt.xlabel(\"Rank\")\n",
    "plt.ylabel(\"Frequency\")\n",
    "\n",
    "plt.loglog()\n",
    "plt.show()"
   ]
  },
  {
   "cell_type": "code",
   "execution_count": null,
   "metadata": {},
   "outputs": [],
   "source": [
    "text_example = [\"I\", \"am\", \"stupid\"]\n",
    "\n",
    "# Calculate term frequency\n",
    "heap = {}\n",
    "count = 0\n",
    "for word in text_example:\n",
    "    # save new terms in a hash as you read the file. With each new term update the vocabulary size v.\n",
    "    if word in heap:\n",
    "        heap[word] = count\n",
    "\n",
    "    # new word\n",
    "    else:\n",
    "        count = count + 1\n",
    "        heap[word] = count\n",
    "\n",
    "# Ascending order\n",
    "term_freq_asce = sorted(heap.items(), key=lambda x: x[1], reverse=False)\n",
    "term_freq_asce"
   ]
  },
  {
   "cell_type": "code",
   "execution_count": null,
   "metadata": {},
   "outputs": [],
   "source": [
    "import nltk\n",
    "from nltk.corpus import stopwords\n",
    "from nltk.stem import PorterStemmer\n",
    "\n",
    "nltk.download('stopwords')\n",
    "\n",
    "# Stopping - Remove English stop words\n",
    "stop_words = set(stopwords.words('english'))\n",
    "filtered_tokens = []\n",
    "for word in tokens:\n",
    "    if word not in stop_words:\n",
    "        filtered_tokens.append(word)\n",
    "\n",
    "# Normalization - Perform Porter stemming\n",
    "porter = PorterStemmer()\n",
    "stemmed_tokens = []\n",
    "for word in filtered_tokens:\n",
    "    stemmed_tokens.append(porter.stem(word))\n",
    "    \n",
    "print(stemmed_tokens[:200])"
   ]
  },
  {
   "cell_type": "code",
   "execution_count": null,
   "metadata": {},
   "outputs": [],
   "source": [
    "# Save preprocessed tokens to new files\n",
    "with open('bible_preprocessed.txt', 'w', encoding='utf-8') as bible_file:\n",
    "    bible_file.write(\" \".join(stemmed_tokens))\n",
    "\n",
    "with open('quran_preprocessed.txt', 'w', encoding='utf-8') as quran_file:\n",
    "    quran_file.write(\" \".join(stemmed_tokens))"
   ]
  },
  {
   "cell_type": "markdown",
   "metadata": {},
   "source": [
    "Compare the processed file to the new file. Are there any surprises? Discuss\n",
    "what kind of modifications in preprocessing could be applied. For example:\n",
    "- Additional words/terms to be filtered out\n",
    "- Special tokenization\n",
    "- Additional normalization to some terms"
   ]
  },
  {
   "cell_type": "code",
   "execution_count": null,
   "metadata": {},
   "outputs": [],
   "source": [
    "example = \"politician: politicians, politics policy\"\n",
    "tokensEx = tokenizer(example)\n",
    "tokensEx"
   ]
  },
  {
   "cell_type": "markdown",
   "metadata": {},
   "source": [
    "# Part 2: Text Laws"
   ]
  },
  {
   "cell_type": "code",
   "execution_count": null,
   "metadata": {},
   "outputs": [],
   "source": [
    "import matplotlib.pyplot as plt\n",
    "\n",
    "# Calculate term frequency\n",
    "term_freq = {}\n",
    "for term in stemmed_tokens:\n",
    "    if term in term_freq:\n",
    "        term_freq[term] += 1\n",
    "    else:\n",
    "        term_freq[term] = 1"
   ]
  }
 ],
 "metadata": {
  "kernelspec": {
   "display_name": "Python 3",
   "language": "python",
   "name": "python3"
  },
  "language_info": {
   "codemirror_mode": {
    "name": "ipython",
    "version": 3
   },
   "file_extension": ".py",
   "mimetype": "text/x-python",
   "name": "python",
   "nbconvert_exporter": "python",
   "pygments_lexer": "ipython3",
   "version": "3.10.0"
  },
  "orig_nbformat": 4
 },
 "nbformat": 4,
 "nbformat_minor": 2
}
